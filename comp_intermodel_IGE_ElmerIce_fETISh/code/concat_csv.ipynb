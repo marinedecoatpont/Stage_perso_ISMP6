{
 "cells": [
  {
   "cell_type": "code",
   "execution_count": 24,
   "id": "4862cf83-6cca-4462-b1a2-aaf5fb2a1755",
   "metadata": {},
   "outputs": [],
   "source": [
    "import pandas as pd"
   ]
  },
  {
   "cell_type": "code",
   "execution_count": 25,
   "id": "93205294-ea0f-4910-86a4-c9fba385781a",
   "metadata": {},
   "outputs": [],
   "source": [
    "# Chemins vers les fichiers CSV d'entrée\n",
    "csv_file1 = '/home/jovyan/private-storage/Decoatpont_m2_ISMP6_personal/2025-07-17/ULB_fETISh-KoriBU1_ULB_fETISh-KoriBU1_2273/min_RMSE_ULB_fETISh-KoriBU1_2273_ULB_fETISh-KoriBU1.csv'\n",
    "csv_file2 = '/home/jovyan/private-storage/Decoatpont_m2_ISMP6_personal/2025-07-17/ULB_fETISh-KoriBU2_ULB_fETISh-KoriBU2_2136/min_RMSE_ULB_fETISh-KoriBU2_2136_ULB_fETISh-KoriBU2.csv'"
   ]
  },
  {
   "cell_type": "code",
   "execution_count": 26,
   "id": "204ff570-8567-40eb-a04e-1b3a741c6587",
   "metadata": {},
   "outputs": [],
   "source": [
    "# Charger les deux fichiers\n",
    "df1 = pd.read_csv(csv_file1)\n",
    "df2 = pd.read_csv(csv_file2)"
   ]
  },
  {
   "cell_type": "code",
   "execution_count": 27,
   "id": "a5ca3578-9a01-407e-b0ec-f7c6df74c911",
   "metadata": {},
   "outputs": [],
   "source": [
    "simulation1 = 'ULB_fETISh-KoriBU1'\n",
    "simulation2 = 'ULB_fETISh-KoriBU2'\n",
    "df1['simulation'] = simulation1\n",
    "df2['simulation'] = simulation2"
   ]
  },
  {
   "cell_type": "code",
   "execution_count": 28,
   "id": "92f09bbf-91a6-4751-9091-3025834a695d",
   "metadata": {},
   "outputs": [],
   "source": [
    "# Concaténer verticalement (ajouter les lignes de df2 à la suite de df1)\n",
    "df_combined = pd.concat([df1, df2], ignore_index=True)"
   ]
  },
  {
   "cell_type": "code",
   "execution_count": 29,
   "id": "765cac8a-c6e8-437c-95e4-e6f4e23fb817",
   "metadata": {},
   "outputs": [
    {
     "name": "stdout",
     "output_type": "stream",
     "text": [
      "✅ Les deux fichiers ont été combinés avec succès !\n"
     ]
    }
   ],
   "source": [
    "# Sauvegarder dans un nouveau fichier\n",
    "df_combined.to_csv('Summary_ULB_fETISh-KoriBU2_2136.csv', index=False)\n",
    "\n",
    "print(\"✅ Les deux fichiers ont été combinés avec succès !\")"
   ]
  },
  {
   "cell_type": "code",
   "execution_count": null,
   "id": "b99965ff-a840-40ac-a095-9dfe5877bc46",
   "metadata": {},
   "outputs": [],
   "source": []
  }
 ],
 "metadata": {
  "kernelspec": {
   "display_name": "Python 3 (ipykernel)",
   "language": "python",
   "name": "python3"
  },
  "language_info": {
   "codemirror_mode": {
    "name": "ipython",
    "version": 3
   },
   "file_extension": ".py",
   "mimetype": "text/x-python",
   "name": "python",
   "nbconvert_exporter": "python",
   "pygments_lexer": "ipython3",
   "version": "3.12.8"
  }
 },
 "nbformat": 4,
 "nbformat_minor": 5
}
