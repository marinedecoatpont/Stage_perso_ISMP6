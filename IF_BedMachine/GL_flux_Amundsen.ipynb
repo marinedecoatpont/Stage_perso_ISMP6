{
 "cells": [
  {
   "cell_type": "markdown",
   "metadata": {},
   "source": [
    "# Calcul du flux à la ligne d'échouage sur seulement la région d'Amundsen."
   ]
  },
  {
   "cell_type": "markdown",
   "metadata": {},
   "source": [
    "calcul avec les code de Cyrille Mosdeux avec une modification pour la sauvegarde en fichier netCDF et l'utilisation d'une librairie locale pour faire le calcul final de flux sur la région d'Amundsen."
   ]
  },
  {
   "cell_type": "code",
   "execution_count": 110,
   "metadata": {},
   "outputs": [],
   "source": [
    "import numpy as np\n",
    "import xarray as xr\n",
    "import matplotlib.pyplot as plt\n",
    "from scipy.interpolate import RegularGridInterpolator\n",
    "from skimage import measure\n",
    "import config\n",
    "import importlib\n",
    "import sys\n",
    "\n",
    "# === Load personal function ===\n",
    "sys.path.append(f'{config.SAVE_PATH}/Function')\n",
    "import Function.ISMIP_function as ismip"
   ]
  },
  {
   "cell_type": "code",
   "execution_count": 111,
   "metadata": {},
   "outputs": [],
   "source": [
    "# === Local Functions ===\n",
    "def resample_line(x, y, spacing):\n",
    "    dists = np.sqrt(np.diff(x)**2 + np.diff(y)**2)\n",
    "    dist_cum = np.concatenate([[0], np.cumsum(dists)])\n",
    "    n_points = int(dist_cum[-1] // spacing)\n",
    "    new_distances = np.linspace(0, dist_cum[-1], n_points)\n",
    "    x_new = np.interp(new_distances, dist_cum, x)\n",
    "    y_new = np.interp(new_distances, dist_cum, y)\n",
    "    return x_new, y_new\n",
    "\n",
    "def interp_field(field, x_gl, y_gl, method='linear'):\n",
    "    if type(field) is xr.DataArray:\n",
    "        interp = RegularGridInterpolator((y, x), field.values, bounds_error=False, fill_value=np.nan, method=method)\n",
    "    else:\n",
    "        interp = RegularGridInterpolator((y, x), field, bounds_error=False, fill_value=np.nan, method=method)\n",
    "    return interp(np.column_stack((y_gl, x_gl)))\n",
    "\n",
    "def check_neighbors(grounded_mask, x_gl, y_gl, resolution):\n",
    "    close_to_real_gl = []\n",
    "    for xi, yi in zip(x_gl, y_gl):\n",
    "        check = (interp_field(grounded_mask, xi, yi, method='nearest') +\n",
    "                 interp_field(grounded_mask, xi + resolution, yi, method='nearest') +\n",
    "                 interp_field(grounded_mask, xi - resolution, yi, method='nearest') +\n",
    "                 interp_field(grounded_mask, xi, yi + resolution, method='nearest') +\n",
    "                 interp_field(grounded_mask, xi, yi - resolution, method='nearest'))\n",
    "        close_to_real_gl.append(check < 5)\n",
    "    return np.array(close_to_real_gl)"
   ]
  },
  {
   "cell_type": "code",
   "execution_count": 112,
   "metadata": {},
   "outputs": [],
   "source": [
    "# === Parameters ===\n",
    "grounding_line_level = 0.0\n",
    "density_ice = 917  # kg/m^3\n",
    "resample_spacing = 1000\n",
    "max_velocity_threshold = 2000#np.inf #or np.Inf depending on python version"
   ]
  },
  {
   "cell_type": "code",
   "execution_count": 113,
   "metadata": {},
   "outputs": [],
   "source": [
    "# === Load and mask data ===\n",
    "bed = xr.open_dataset(f'{config.SAVE_PATH}/Result/BedMachine.nc').bed\n",
    "bed = ismip.grid_4x4(bed)\n",
    "surface = xr.open_dataset(f'{config.SAVE_PATH}/Result/BedMachine.nc').surface\n",
    "surface = ismip.grid_4x4(surface)\n",
    "thickness = xr.open_dataset(f'{config.SAVE_PATH}/Result/BedMachine.nc').thickness\n",
    "thickness = ismip.grid_4x4(thickness)\n",
    "vx = xr.open_dataset(f'{config.SAVE_PATH}/Result/antarctica_velocity_updated_v2.nc').vx\n",
    "vx = ismip.grid_4x4(vx)\n",
    "vy = xr.open_dataset(f'{config.SAVE_PATH}/Result/antarctica_velocity_updated_v2.nc').vy\n",
    "vy = ismip.grid_4x4(vy)"
   ]
  },
  {
   "cell_type": "code",
   "execution_count": 114,
   "metadata": {},
   "outputs": [],
   "source": [
    "ice_base = (surface - thickness)\n",
    "grounded_mask = np.abs(ice_base - bed).values < 1e-2  # Boolean grounded mask"
   ]
  },
  {
   "cell_type": "code",
   "execution_count": 115,
   "metadata": {},
   "outputs": [],
   "source": [
    "# Coordinates\n",
    "x = bed[\"x\"].values\n",
    "y = bed[\"y\"].values"
   ]
  },
  {
   "cell_type": "code",
   "execution_count": 116,
   "metadata": {},
   "outputs": [],
   "source": [
    "x_mask = (x >= -2e6) & (x <= -0.75e6)\n",
    "y_mask = (y >= -1e6) & (y <= 0.25)\n",
    "region_mask = np.outer(y_mask, x_mask)\n",
    "grounded_mask = np.where(region_mask, grounded_mask, np.nan)"
   ]
  },
  {
   "cell_type": "code",
   "execution_count": 117,
   "metadata": {},
   "outputs": [],
   "source": [
    "# Find contours at the 0.5 level = boundary between grounded (1) and ungrounded (0)\n",
    "contours = measure.find_contours(grounded_mask, level=0.5)\n",
    "\n",
    "if not contours:\n",
    "    raise RuntimeError(\"No contour found at level 0.5 — check your data.\")\n",
    "contour = max(contours, key=len)\n",
    "contour_y, contour_x = contour.T  # in pixel coords"
   ]
  },
  {
   "cell_type": "code",
   "execution_count": 118,
   "metadata": {},
   "outputs": [],
   "source": [
    "# Convert to real-world coordinates\n",
    "dx = x[1] - x[0]\n",
    "dy = y[1] - y[0]\n",
    "x_real = x[0] + contour_x * dx\n",
    "y_real = y[0] + contour_y * dy"
   ]
  },
  {
   "cell_type": "code",
   "execution_count": 119,
   "metadata": {},
   "outputs": [
    {
     "name": "stdout",
     "output_type": "stream",
     "text": [
      "x_gl: (2806,), y_gl: (2806,)\n"
     ]
    }
   ],
   "source": [
    "x_gl, y_gl = resample_line(x_real, y_real, resample_spacing)\n",
    "print(f'x_gl: {x_gl.shape}, y_gl: {y_gl.shape}')"
   ]
  },
  {
   "cell_type": "code",
   "execution_count": 120,
   "metadata": {},
   "outputs": [],
   "source": [
    "vx_gl = interp_field(vx, x_gl, y_gl)\n",
    "vy_gl = interp_field(vy, x_gl, y_gl)\n",
    "H_gl = interp_field(thickness, x_gl, y_gl)"
   ]
  },
  {
   "cell_type": "code",
   "execution_count": 121,
   "metadata": {},
   "outputs": [],
   "source": [
    "# Check if the GL points are close to a real grounded line (on the mesh)\n",
    "gl_check_status = check_neighbors(grounded_mask, x_gl, y_gl, dx)"
   ]
  },
  {
   "cell_type": "code",
   "execution_count": 122,
   "metadata": {},
   "outputs": [],
   "source": [
    "# === Compute Local Normals ===\n",
    "dx = np.gradient(x_gl)\n",
    "dy = np.gradient(y_gl)\n",
    "dl = np.sqrt(dx**2 + dy**2)\n",
    "nx = dy / dl\n",
    "ny = -dx / dl"
   ]
  },
  {
   "cell_type": "code",
   "execution_count": 123,
   "metadata": {},
   "outputs": [],
   "source": [
    "# === Project Velocities onto Normals ===\n",
    "vn = vx_gl * nx + vy_gl * ny\n",
    "#vn =vn * 365.25 * 24 * 3600  # Convert to m/yr\n",
    "vn[np.isnan(vn)] = 0\n",
    "vn[vn > max_velocity_threshold] = 0.1"
   ]
  },
  {
   "cell_type": "code",
   "execution_count": 124,
   "metadata": {},
   "outputs": [
    {
     "data": {
      "text/plain": [
       "array([  3.87439302,   2.50976796,   1.1451429 , ..., 190.23355596,\n",
       "       210.72390422, 229.93060557])"
      ]
     },
     "execution_count": 124,
     "metadata": {},
     "output_type": "execute_result"
    }
   ],
   "source": [
    "vn"
   ]
  },
  {
   "cell_type": "code",
   "execution_count": 125,
   "metadata": {},
   "outputs": [],
   "source": [
    "# === Compute Segmental Flux ===\n",
    "flux = H_gl * vn * dl"
   ]
  },
  {
   "cell_type": "code",
   "execution_count": 126,
   "metadata": {},
   "outputs": [],
   "source": [
    "# In case of masking of a region, mask boundaries should be removed from the flux computation \n",
    "# since they are not real grounded lines\n",
    "#flux[gl_check_status == False] = 0  # Set flux to 0 for points not close to a real grounded line \n",
    "flux[np.isnan(flux)] = 0  #remove possible NaN values \n",
    "total_flux_kg_per_yr = np.sum(flux) * density_ice\n",
    "total_flux_Gt_per_yr = total_flux_kg_per_yr / 1e12\n"
   ]
  },
  {
   "cell_type": "code",
   "execution_count": 127,
   "metadata": {},
   "outputs": [],
   "source": [
    "mass_flux = flux / dl / 1e6 # Gt/yr\n",
    "\n",
    "mass_flux[mass_flux == 0] = np.nan"
   ]
  },
  {
   "cell_type": "code",
   "execution_count": 128,
   "metadata": {},
   "outputs": [
    {
     "name": "stdout",
     "output_type": "stream",
     "text": [
      "Total integrated flux through grounding line: 262.96 Gt/yr\n",
      "(np.float64(-3040000.0), np.float64(3040000.0), np.float64(-3040000.0), np.float64(3040000.0))\n"
     ]
    },
    {
     "data": {
      "image/png": "[encoded data removed]",
      "text/plain": [
       "<Figure size 1000x600 with 2 Axes>"
      ]
     },
     "metadata": {},
     "output_type": "display_data"
    }
   ],
   "source": [
    "# === Output ===\n",
    "print(f\"Total integrated flux through grounding line: {total_flux_Gt_per_yr:.2f} Gt/yr\")\n",
    "\n",
    "# === Optional: Plot ===\n",
    "plt.figure(figsize=(10, 6))\n",
    "plt.title(\"Flux Along Grounding Line\")\n",
    "print((x[0], x[-1], y[0], y[-1]))\n",
    "plt.imshow(grounded_mask, cmap=\"Greys\", vmin = 0, vmax = 1 ,origin=\"lower\", extent=(x[0], x[-1], y[0], y[-1]), alpha=0.5,zorder=-1)\n",
    "plt.scatter(x_gl, y_gl, c=mass_flux,vmin = -0.05, vmax = 0.05, cmap=\"seismic\", s=1)\n",
    "plt.colorbar(label=r\"Flux at the Grounding Line in (km$^3$/a per km)\")\n",
    "plt.axis(\"equal\")\n",
    "plt.xlabel(\"x (m)\")\n",
    "plt.ylabel(\"y (m)\")\n",
    "plt.grid(True)\n",
    "plt.tight_layout()"
   ]
  },
  {
   "cell_type": "code",
   "execution_count": 129,
   "metadata": {},
   "outputs": [],
   "source": [
    "flux_total = xr.zeros_like(bed)\n",
    "flux_total.attrs.update({\n",
    "    'units': 'Gt yr⁻¹',\n",
    "    'long_name': 'Ice flux at the grounding line',\n",
    "    'standard_name': 'grounding_line_flux'\n",
    "})\n",
    "flux_ds = xr.Dataset({'ligroundf': flux_total})"
   ]
  },
  {
   "cell_type": "code",
   "execution_count": 131,
   "metadata": {},
   "outputs": [],
   "source": [
    "for i, (x_line, y_line) in enumerate(zip(x_gl, y_gl)):\n",
    "    selected_point = flux_ds.ligroundf.sel(x=x_line, y=y_line, method='nearest')\n",
    "    x_idx, y_idx = selected_point.x.values, selected_point.y.values\n",
    "    flux_ds.ligroundf.loc[dict(x=x_idx, y=y_idx)] += flux[i]\n",
    "\n",
    "# === Save and plot ===\n",
    "nc_path = f'{config.SAVE_PATH}/Result/ligroundf_bedmachine_amun_w_thres.nc'\n",
    "flux_ds.to_netcdf(nc_path)"
   ]
  },
  {
   "cell_type": "code",
   "execution_count": 132,
   "metadata": {},
   "outputs": [],
   "source": [
    "test_flux_ds = xr.open_dataset(nc_path)"
   ]
  },
  {
   "cell_type": "code",
   "execution_count": 133,
   "metadata": {},
   "outputs": [
    {
     "data": {
      "text/plain": [
       "<matplotlib.collections.QuadMesh at 0x152bda310>"
      ]
     },
     "execution_count": 133,
     "metadata": {},
     "output_type": "execute_result"
    },
    {
     "data": {
      "image/png": "[encoded data removed]",
      "text/plain": [
       "<Figure size 640x480 with 2 Axes>"
      ]
     },
     "metadata": {},
     "output_type": "display_data"
    }
   ],
   "source": [
    "test_flux_ds.ligroundf.plot()"
   ]
  },
  {
   "cell_type": "code",
   "execution_count": 134,
   "metadata": {},
   "outputs": [
    {
     "name": "stdout",
     "output_type": "stream",
     "text": [
      "Amundsen Basin flux: 380.05 Gt/yr\n"
     ]
    }
   ],
   "source": [
    "flux_amun_test = ismip.basin_flux_hand(test_flux_ds.ligroundf, 'Amundsen')\n",
    "print(f\"Amundsen Basin flux: {flux_amun_test:.2f} Gt/yr\")"
   ]
  },
  {
   "cell_type": "code",
   "execution_count": null,
   "metadata": {},
   "outputs": [],
   "source": []
  }
 ],
 "metadata": {
  "kernelspec": {
   "display_name": "Python 3",
   "language": "python",
   "name": "python3"
  },
  "language_info": {
   "codemirror_mode": {
    "name": "ipython",
    "version": 3
   },
   "file_extension": ".py",
   "mimetype": "text/x-python",
   "name": "python",
   "nbconvert_exporter": "python",
   "pygments_lexer": "ipython3",
   "version": "3.9.6"
  }
 },
 "nbformat": 4,
 "nbformat_minor": 2
}
